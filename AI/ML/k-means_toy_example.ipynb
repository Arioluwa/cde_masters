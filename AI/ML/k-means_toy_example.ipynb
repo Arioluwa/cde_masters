{
 "cells": [
  {
   "cell_type": "markdown",
   "metadata": {
    "id": "0EZdNNQFJ-Mb"
   },
   "source": [
    "## Main goal : implement a kmean algorithm\n",
    "### Import necessary libraries\n"
   ]
  },
  {
   "cell_type": "code",
   "execution_count": 1,
   "metadata": {
    "executionInfo": {
     "elapsed": 2,
     "status": "ok",
     "timestamp": 1665150750697,
     "user": {
      "displayName": "Thomas Corpetti",
      "userId": "04690997876962647522"
     },
     "user_tz": -120
    },
    "id": "WT54MchCKA_U"
   },
   "outputs": [],
   "source": [
    "from copy import deepcopy\n",
    "import numpy as np # linear algebra\n",
    "import pandas as pd # data processing, CSV file I/O (e.g. pd.read_csv)\n",
    "from matplotlib import pyplot as plt"
   ]
  },
  {
   "cell_type": "markdown",
   "metadata": {
    "id": "g-kVs0lPJ6gm"
   },
   "source": [
    "## 1 --- Creation of a toy dataset (4 different clusters)\n",
    "Set four centers\n"
   ]
  },
  {
   "cell_type": "code",
   "execution_count": 2,
   "metadata": {
    "executionInfo": {
     "elapsed": 1,
     "status": "ok",
     "timestamp": 1665150754773,
     "user": {
      "displayName": "Thomas Corpetti",
      "userId": "04690997876962647522"
     },
     "user_tz": -120
    },
    "id": "Vt0GwJ3LJ5VV"
   },
   "outputs": [],
   "source": [
    "center_1 = np.array([1,1])\n",
    "center_2 = np.array([15,15])\n",
    "center_3 = np.array([23,2])\n",
    "center_4 = np.array([35,1])"
   ]
  },
  {
   "cell_type": "markdown",
   "metadata": {
    "id": "MubYUqoXKJ4D"
   },
   "source": [
    "Generate random (gaussian) noise around these centers"
   ]
  },
  {
   "cell_type": "code",
   "execution_count": 9,
   "metadata": {
    "executionInfo": {
     "elapsed": 3,
     "status": "ok",
     "timestamp": 1665150824463,
     "user": {
      "displayName": "Thomas Corpetti",
      "userId": "04690997876962647522"
     },
     "user_tz": -120
    },
    "id": "h4Dij6W_KNfz"
   },
   "outputs": [],
   "source": [
    "data_1 = np.random.randn(50,2)*3+ center_1\n",
    "data_2 = np.random.randn(200,2)*1 + center_2\n",
    "data_3 = np.random.randn(180,2)*2 + center_3\n",
    "data_4 = np.random.randn(250,2)*1.2 + center_4"
   ]
  },
  {
   "cell_type": "markdown",
   "metadata": {
    "id": "1GpKQXPNKPiT"
   },
   "source": [
    "Concatenate  data"
   ]
  },
  {
   "cell_type": "code",
   "execution_count": 10,
   "metadata": {
    "executionInfo": {
     "elapsed": 3,
     "status": "ok",
     "timestamp": 1665150828140,
     "user": {
      "displayName": "Thomas Corpetti",
      "userId": "04690997876962647522"
     },
     "user_tz": -120
    },
    "id": "VGUi1R27KRZ-"
   },
   "outputs": [],
   "source": [
    "data = np.concatenate((data_1, data_2, data_3,data_4), axis = 0)"
   ]
  },
  {
   "cell_type": "markdown",
   "metadata": {
    "id": "nl8_IBLuKWEx"
   },
   "source": [
    "Plot and save data"
   ]
  },
  {
   "cell_type": "code",
   "execution_count": 11,
   "metadata": {
    "colab": {
     "base_uri": "https://localhost:8080/",
     "height": 281
    },
    "executionInfo": {
     "elapsed": 1372,
     "status": "ok",
     "timestamp": 1665150830593,
     "user": {
      "displayName": "Thomas Corpetti",
      "userId": "04690997876962647522"
     },
     "user_tz": -120
    },
    "id": "JUTSG9t0KYRj",
    "outputId": "91d03deb-2a94-4384-f20d-c0a5b29240d8"
   },
   "outputs": [
    {
     "data": {
      "image/png": "[encoded data removed]",
      "text/plain": [
       "<Figure size 432x288 with 1 Axes>"
      ]
     },
     "metadata": {
      "needs_background": "light"
     },
     "output_type": "display_data"
    }
   ],
   "source": [
    "plt.clf()\n",
    "plt.scatter(data[:,0], data[:,1], s=4)\n",
    "plt.title('point cloud')\n",
    "plt.savefig('point_clouds.png')"
   ]
  },
  {
   "cell_type": "markdown",
   "metadata": {
    "id": "F-5-kLaDKbWB"
   },
   "source": [
    "Definition of the k-mean function"
   ]
  },
  {
   "cell_type": "code",
   "execution_count": 12,
   "metadata": {
    "executionInfo": {
     "elapsed": 294,
     "status": "ok",
     "timestamp": 1665151066314,
     "user": {
      "displayName": "Thomas Corpetti",
      "userId": "04690997876962647522"
     },
     "user_tz": -120
    },
    "id": "STPmPoXOKd7f"
   },
   "outputs": [],
   "source": [
    "def kmeans(data,k=3,name_output=None,iter_max=100):\n",
    "    # Number of points\n",
    "    n = data.shape[0]\n",
    "    # Number of features\n",
    "    c = data.shape[1]\n",
    "\n",
    "    # Generate random centers inside the dataset\n",
    "    mean = np.mean(data, axis = 0)\n",
    "    std = np.std(data, axis = 0)\n",
    "    centers = np.random.randn(k,c)*std + mean\n",
    "\n",
    "    # Plot the data and the centers generated as random\n",
    "    # Plot the data and the centers generated as random\n",
    "    if name_output is not None:\n",
    "        plt.clf()\n",
    "        plt.scatter(data[:,0], data[:,1], s=7)\n",
    "        plt.scatter(centers[:,0], centers[:,1], marker='*', c='g', s=150)\n",
    "        plt.title('initial centers')\n",
    "        plt.savefig('%s_initial_centers.png'%name_output)\n",
    "\n",
    "    # Internal variables\n",
    "    centers_old = np.zeros(centers.shape) # to store old centers\n",
    "    centers_new = deepcopy(centers) # Store new centers\n",
    "    error = np.linalg.norm(centers_new - centers_old)\n",
    "    iter = 0\n",
    "\n",
    "    # clusters : array of size n with corresponding clusters\n",
    "    clusters = np.zeros(n)\n",
    "    # distances : nx4 matrix with distances to each center\n",
    "    distances = np.zeros((n,k))\n",
    "\n",
    "    # When, after an update, the estimate of that center stays the same, exit loop\n",
    "    while error != 0 or iter==iter_max:\n",
    "        # Measure the distance to every center (see np.linalg.norm)\n",
    "        for i in range(k):\n",
    "            distances[:,i] = np.linalg.norm(data - centers_new[i], axis=1)\n",
    "        # Assign all training data to closest center (see np.argmin)\n",
    "        clusters = np.argmin(distances, axis = 1)\n",
    "        # save old centers\n",
    "        centers_old = deepcopy(centers_new)\n",
    "        # Calculate mean for every cluster and update the center\n",
    "        for i in range(k):\n",
    "            centers_new[i] = np.mean(data[clusters == i], axis=0)\n",
    "        # compute and print error\n",
    "        error = np.linalg.norm(centers_new - centers_old)\n",
    "        print('iteration %d : error %.5f'%(iter,error))\n",
    "        if np.isnan(error):\n",
    "            print('nan : reset centers')\n",
    "            centers_old = np.zeros(centers.shape)\n",
    "            centers_new = np.random.randn(k,c)*std + mean\n",
    "\n",
    "        iter+=1\n",
    "    print('convergence after %d iterations'%iter)\n",
    "    # plot\n",
    "    if name_output is not None:\n",
    "        plt.clf()\n",
    "        plt.scatter(data[:,0], data[:,1], s=7)\n",
    "        for i in range(k):\n",
    "            plt.scatter(data[clusters==i,0], data[clusters==i,1], s=7+i*10)\n",
    "        plt.scatter(centers_new[:,0], centers_new[:,1], marker='*', c='g', s=150)\n",
    "        plt.title('clustering')\n",
    "        plt.savefig('%s_result_with_%d_clusters.png'%(name_output,k))\n",
    "    return clusters\n"
   ]
  },
  {
   "cell_type": "code",
   "execution_count": 26,
   "metadata": {
    "colab": {
     "base_uri": "https://localhost:8080/",
     "height": 373
    },
    "executionInfo": {
     "elapsed": 639,
     "status": "ok",
     "timestamp": 1665151209562,
     "user": {
      "displayName": "Thomas Corpetti",
      "userId": "04690997876962647522"
     },
     "user_tz": -120
    },
    "id": "hmpCj6iDK-k1",
    "outputId": "335cf6b8-2fde-4bd8-820f-40feb72e65d2"
   },
   "outputs": [
    {
     "name": "stdout",
     "output_type": "stream",
     "text": [
      "iteration 0 : error 17.00240\n",
      "iteration 1 : error 2.70385\n",
      "iteration 2 : error 0.12082\n",
      "iteration 3 : error 0.00000\n",
      "convergence after 4 iterations\n"
     ]
    },
    {
     "data": {
      "image/png": "[encoded data removed]",
      "text/plain": [
       "<Figure size 432x288 with 1 Axes>"
      ]
     },
     "metadata": {
      "needs_background": "light"
     },
     "output_type": "display_data"
    }
   ],
   "source": [
    "#clustering=kmeans(data,2,'clustering_2')\n",
    "#clustering=kmeans(data,3,'clustering_3')\n",
    "clustering=kmeans(data,4,'clustering_4')\n",
    "#clustering=kmeans(data,14,'clustering_14')\n"
   ]
  },
  {
   "cell_type": "code",
   "execution_count": null,
   "metadata": {
    "id": "N9EQ5o_8LJie"
   },
   "outputs": [],
   "source": []
  }
 ],
 "metadata": {
  "colab": {
   "authorship_tag": "ABX9TyOtUMFre5DwvmrXI6X5OKva",
   "provenance": []
  },
  "kernelspec": {
   "display_name": "my_kernel",
   "language": "python",
   "name": "anaconda-cde"
  },
  "language_info": {
   "codemirror_mode": {
    "name": "ipython",
    "version": 3
   },
   "file_extension": ".py",
   "mimetype": "text/x-python",
   "name": "python",
   "nbconvert_exporter": "python",
   "pygments_lexer": "ipython3",
   "version": "3.10.6"
  }
 },
 "nbformat": 4,
 "nbformat_minor": 4
}
